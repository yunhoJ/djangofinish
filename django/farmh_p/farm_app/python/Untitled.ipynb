{
 "cells": [
  {
   "cell_type": "code",
   "execution_count": 1,
   "id": "cb0de797",
   "metadata": {},
   "outputs": [
    {
     "name": "stdout",
     "output_type": "stream",
     "text": [
      "WARNING:tensorflow:\n",
      "The TensorFlow contrib module will not be included in TensorFlow 2.0.\n",
      "For more information, please see:\n",
      "  * https://github.com/tensorflow/community/blob/master/rfcs/20180907-contrib-sunset.md\n",
      "  * https://github.com/tensorflow/addons\n",
      "  * https://github.com/tensorflow/io (for I/O related ops)\n",
      "If you depend on functionality not listed there, please file an issue.\n",
      "\n",
      "WARNING:tensorflow:From C:\\Users\\smhrd\\Anaconda3\\envs\\DarkflowGPU\\lib\\site-packages\\darkflow\\net\\build.py:15: The name tf.train.RMSPropOptimizer is deprecated. Please use tf.compat.v1.train.RMSPropOptimizer instead.\n",
      "\n",
      "WARNING:tensorflow:From C:\\Users\\smhrd\\Anaconda3\\envs\\DarkflowGPU\\lib\\site-packages\\darkflow\\net\\build.py:16: The name tf.train.AdadeltaOptimizer is deprecated. Please use tf.compat.v1.train.AdadeltaOptimizer instead.\n",
      "\n",
      "WARNING:tensorflow:From C:\\Users\\smhrd\\Anaconda3\\envs\\DarkflowGPU\\lib\\site-packages\\darkflow\\net\\build.py:17: The name tf.train.AdagradOptimizer is deprecated. Please use tf.compat.v1.train.AdagradOptimizer instead.\n",
      "\n",
      "WARNING:tensorflow:From C:\\Users\\smhrd\\Anaconda3\\envs\\DarkflowGPU\\lib\\site-packages\\darkflow\\net\\build.py:18: The name tf.train.AdagradDAOptimizer is deprecated. Please use tf.compat.v1.train.AdagradDAOptimizer instead.\n",
      "\n",
      "WARNING:tensorflow:From C:\\Users\\smhrd\\Anaconda3\\envs\\DarkflowGPU\\lib\\site-packages\\darkflow\\net\\build.py:19: The name tf.train.MomentumOptimizer is deprecated. Please use tf.compat.v1.train.MomentumOptimizer instead.\n",
      "\n",
      "WARNING:tensorflow:From C:\\Users\\smhrd\\Anaconda3\\envs\\DarkflowGPU\\lib\\site-packages\\darkflow\\net\\build.py:20: The name tf.train.AdamOptimizer is deprecated. Please use tf.compat.v1.train.AdamOptimizer instead.\n",
      "\n",
      "WARNING:tensorflow:From C:\\Users\\smhrd\\Anaconda3\\envs\\DarkflowGPU\\lib\\site-packages\\darkflow\\net\\build.py:21: The name tf.train.FtrlOptimizer is deprecated. Please use tf.compat.v1.train.FtrlOptimizer instead.\n",
      "\n",
      "WARNING:tensorflow:From C:\\Users\\smhrd\\Anaconda3\\envs\\DarkflowGPU\\lib\\site-packages\\darkflow\\net\\build.py:22: The name tf.train.GradientDescentOptimizer is deprecated. Please use tf.compat.v1.train.GradientDescentOptimizer instead.\n",
      "\n"
     ]
    }
   ],
   "source": [
    "import cv2\n",
    "from darkflow.net.build import TFNet\n",
    "import matplotlib.pyplot as plt\n",
    "import numpy as np\n",
    "\n",
    "class deepTos():\n",
    "    def deep(path):\n",
    "        options = {\n",
    "        'model':'./cfg/yolo.cfg',\n",
    "        \"load\": \"./bi\n",
    "        eights\",\n",
    "        # \"load\":-1,# cfg와 weights의 이름은 yolo로 통일하여 저장할 것을 권장\n",
    "        'threshold' : 0.5,\n",
    "        \"batch\":1,  \n",
    "        \"gpu\":1.0\n",
    "        \n",
    "        }\n",
    "#python flow --imgdir ../data/testset/ --model ./cfg/my-tiny-yolo.cfg --load -1 --batch 1 --threshold 0.5\n",
    "\n",
    "        tfnet = TFNet(options)\n",
    "        img=cv2.imread(path,cv2.IMREAD_COLOR)\n",
    "        results=tfnet.return_predict(img)\n",
    "        colors=[tuple(255*np.random.rand(3)) for _ in range(300)] # 각각의 컬러 박스\n",
    "        \n",
    "        for color ,result in zip (colors,results):\n",
    "            tl=(result[\"topleft\"][\"x\"],result[\"topleft\"][\"y\"])\n",
    "            br=(result[\"bottomright\"][\"x\"],result[\"bottomright\"][\"y\"])\n",
    "            lable=(result[\"label\"])\n",
    "            img=cv2.rectangle(img,tl,br,color,7)\n",
    "            img=cv2.putText(img,lable,tl,cv2.FONT_HERSHEY_COMPLEX,1,(0,0,0),3)\n",
    "        cnt=2\n",
    "        cv2.imwrite('./img_result{}.jpg'.format(cnt), img)\n",
    "        # return img\n",
    "        # cnt+=1\n"
   ]
  },
  {
   "cell_type": "code",
   "execution_count": 3,
   "id": "ada094db",
   "metadata": {},
   "outputs": [
    {
     "name": "stdout",
     "output_type": "stream",
     "text": [
      "Parsing ./cfg/yolo.cfg\n",
      "Loading ./bin/yolov2.weights ...\n",
      "Successfully identified 203934260 bytes\n",
      "Finished in 0.027925491333007812s\n",
      "Model has a coco model name, loading coco labels.\n",
      "\n",
      "Building net ...\n",
      "WARNING:tensorflow:From C:\\Users\\smhrd\\Anaconda3\\envs\\DarkflowGPU\\lib\\site-packages\\darkflow\\net\\build.py:105: The name tf.placeholder is deprecated. Please use tf.compat.v1.placeholder instead.\n",
      "\n",
      "Source | Train? | Layer description                | Output size\n",
      "-------+--------+----------------------------------+---------------\n",
      "WARNING:tensorflow:From C:\\Users\\smhrd\\Anaconda3\\envs\\DarkflowGPU\\lib\\site-packages\\darkflow\\net\\ops\\baseop.py:70: The name tf.variable_scope is deprecated. Please use tf.compat.v1.variable_scope instead.\n",
      "\n",
      "WARNING:tensorflow:From C:\\Users\\smhrd\\Anaconda3\\envs\\DarkflowGPU\\lib\\site-packages\\darkflow\\net\\ops\\baseop.py:71: The name tf.get_variable is deprecated. Please use tf.compat.v1.get_variable instead.\n",
      "\n",
      "WARNING:tensorflow:From C:\\Users\\smhrd\\Anaconda3\\envs\\DarkflowGPU\\lib\\site-packages\\darkflow\\net\\ops\\baseop.py:84: The name tf.placeholder_with_default is deprecated. Please use tf.compat.v1.placeholder_with_default instead.\n",
      "\n",
      "       |        | input                            | (?, 608, 608, 3)\n",
      " Load  |  Yep!  | conv 3x3p1_1  +bnorm  leaky      | (?, 608, 608, 32)\n",
      "WARNING:tensorflow:From C:\\Users\\smhrd\\Anaconda3\\envs\\DarkflowGPU\\lib\\site-packages\\darkflow\\net\\ops\\simple.py:106: The name tf.nn.max_pool is deprecated. Please use tf.nn.max_pool2d instead.\n",
      "\n"
     ]
    },
    {
     "name": "stderr",
     "output_type": "stream",
     "text": [
      "C:\\Users\\smhrd\\Anaconda3\\envs\\DarkflowGPU\\lib\\site-packages\\darkflow\\dark\\darknet.py:54: UserWarning: ./cfg/yolov2.cfg not found, use ./cfg/yolo.cfg instead\n",
      "  cfg_path, FLAGS.model))\n"
     ]
    },
    {
     "name": "stdout",
     "output_type": "stream",
     "text": [
      " Load  |  Yep!  | maxp 2x2p0_2                     | (?, 304, 304, 32)\n",
      " Load  |  Yep!  | conv 3x3p1_1  +bnorm  leaky      | (?, 304, 304, 64)\n",
      " Load  |  Yep!  | maxp 2x2p0_2                     | (?, 152, 152, 64)\n",
      " Load  |  Yep!  | conv 3x3p1_1  +bnorm  leaky      | (?, 152, 152, 128)\n",
      " Load  |  Yep!  | conv 1x1p0_1  +bnorm  leaky      | (?, 152, 152, 64)\n",
      " Load  |  Yep!  | conv 3x3p1_1  +bnorm  leaky      | (?, 152, 152, 128)\n",
      " Load  |  Yep!  | maxp 2x2p0_2                     | (?, 76, 76, 128)\n",
      " Load  |  Yep!  | conv 3x3p1_1  +bnorm  leaky      | (?, 76, 76, 256)\n",
      " Load  |  Yep!  | conv 1x1p0_1  +bnorm  leaky      | (?, 76, 76, 128)\n",
      " Load  |  Yep!  | conv 3x3p1_1  +bnorm  leaky      | (?, 76, 76, 256)\n",
      " Load  |  Yep!  | maxp 2x2p0_2                     | (?, 38, 38, 256)\n",
      " Load  |  Yep!  | conv 3x3p1_1  +bnorm  leaky      | (?, 38, 38, 512)\n",
      " Load  |  Yep!  | conv 1x1p0_1  +bnorm  leaky      | (?, 38, 38, 256)\n",
      " Load  |  Yep!  | conv 3x3p1_1  +bnorm  leaky      | (?, 38, 38, 512)\n",
      " Load  |  Yep!  | conv 1x1p0_1  +bnorm  leaky      | (?, 38, 38, 256)\n",
      " Load  |  Yep!  | conv 3x3p1_1  +bnorm  leaky      | (?, 38, 38, 512)\n",
      " Load  |  Yep!  | maxp 2x2p0_2                     | (?, 19, 19, 512)\n",
      " Load  |  Yep!  | conv 3x3p1_1  +bnorm  leaky      | (?, 19, 19, 1024)\n",
      " Load  |  Yep!  | conv 1x1p0_1  +bnorm  leaky      | (?, 19, 19, 512)\n",
      " Load  |  Yep!  | conv 3x3p1_1  +bnorm  leaky      | (?, 19, 19, 1024)\n",
      " Load  |  Yep!  | conv 1x1p0_1  +bnorm  leaky      | (?, 19, 19, 512)\n",
      " Load  |  Yep!  | conv 3x3p1_1  +bnorm  leaky      | (?, 19, 19, 1024)\n",
      " Load  |  Yep!  | conv 3x3p1_1  +bnorm  leaky      | (?, 19, 19, 1024)\n",
      " Load  |  Yep!  | conv 3x3p1_1  +bnorm  leaky      | (?, 19, 19, 1024)\n",
      " Load  |  Yep!  | concat [16]                      | (?, 38, 38, 512)\n",
      " Load  |  Yep!  | conv 1x1p0_1  +bnorm  leaky      | (?, 38, 38, 64)\n",
      "WARNING:tensorflow:From C:\\Users\\smhrd\\Anaconda3\\envs\\DarkflowGPU\\lib\\site-packages\\darkflow\\net\\ops\\convolution.py:28: calling extract_image_patches (from tensorflow.python.ops.array_ops) with ksizes is deprecated and will be removed in a future version.\n",
      "Instructions for updating:\n",
      "ksizes is deprecated, use sizes instead\n",
      " Load  |  Yep!  | local flatten 2x2                | (?, 19, 19, 256)\n",
      " Load  |  Yep!  | concat [27, 24]                  | (?, 19, 19, 1280)\n",
      " Load  |  Yep!  | conv 3x3p1_1  +bnorm  leaky      | (?, 19, 19, 1024)\n",
      " Load  |  Yep!  | conv 1x1p0_1    linear           | (?, 19, 19, 425)\n",
      "-------+--------+----------------------------------+---------------\n",
      "GPU mode with 1.0 usage\n",
      "WARNING:tensorflow:From C:\\Users\\smhrd\\Anaconda3\\envs\\DarkflowGPU\\lib\\site-packages\\darkflow\\net\\build.py:132: The name tf.GPUOptions is deprecated. Please use tf.compat.v1.GPUOptions instead.\n",
      "\n",
      "WARNING:tensorflow:From C:\\Users\\smhrd\\Anaconda3\\envs\\DarkflowGPU\\lib\\site-packages\\darkflow\\net\\build.py:145: The name tf.Session is deprecated. Please use tf.compat.v1.Session instead.\n",
      "\n",
      "WARNING:tensorflow:From C:\\Users\\smhrd\\Anaconda3\\envs\\DarkflowGPU\\lib\\site-packages\\darkflow\\net\\build.py:145: The name tf.ConfigProto is deprecated. Please use tf.compat.v1.ConfigProto instead.\n",
      "\n",
      "WARNING:tensorflow:From C:\\Users\\smhrd\\Anaconda3\\envs\\DarkflowGPU\\lib\\site-packages\\darkflow\\net\\build.py:146: The name tf.global_variables_initializer is deprecated. Please use tf.compat.v1.global_variables_initializer instead.\n",
      "\n",
      "WARNING:tensorflow:From C:\\Users\\smhrd\\Anaconda3\\envs\\DarkflowGPU\\lib\\site-packages\\darkflow\\net\\build.py:149: The name tf.train.Saver is deprecated. Please use tf.compat.v1.train.Saver instead.\n",
      "\n",
      "WARNING:tensorflow:From C:\\Users\\smhrd\\Anaconda3\\envs\\DarkflowGPU\\lib\\site-packages\\darkflow\\net\\build.py:149: The name tf.global_variables is deprecated. Please use tf.compat.v1.global_variables instead.\n",
      "\n",
      "Finished in 9.496382474899292s\n",
      "\n"
     ]
    }
   ],
   "source": [
    "deepTos.deep(\"./3_Ht3Vhov.jpg\")"
   ]
  },
  {
   "cell_type": "code",
   "execution_count": null,
   "metadata": {},
   "outputs": [],
   "source": []
  }
 ],
 "metadata": {
  "interpreter": {
   "hash": "c65321ffbd7906a5867c21cb0f5da8dfab9c257d1d43ff643c8c8e637a112b07"
  },
  "kernelspec": {
   "display_name": "Python 3.6.13 64-bit ('DarkflowGPU': conda)",
   "name": "python3"
  },
  "language_info": {
   "codemirror_mode": {
    "name": "ipython",
    "version": 3
   },
   "file_extension": ".py",
   "mimetype": "text/x-python",
   "name": "python",
   "nbconvert_exporter": "python",
   "pygments_lexer": "ipython3",
   "version": "3.6.13"
  }
 },
 "nbformat": 4,
 "nbformat_minor": 5
}
